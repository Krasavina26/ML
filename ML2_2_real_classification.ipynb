{
  "nbformat": 4,
  "nbformat_minor": 0,
  "metadata": {
    "colab": {
      "provenance": []
    },
    "kernelspec": {
      "name": "python3",
      "display_name": "Python 3"
    },
    "language_info": {
      "name": "python"
    }
  },
  "cells": [
    {
      "cell_type": "code",
      "source": [
        "import pandas as pd"
      ],
      "metadata": {
        "id": "IC0LFFaOWnxe"
      },
      "execution_count": 2,
      "outputs": []
    },
    {
      "cell_type": "code",
      "execution_count": 3,
      "metadata": {
        "id": "vzbDLhE-H4IA"
      },
      "outputs": [],
      "source": [
        "data = pd.read_csv(\"https://raw.githubusercontent.com/koroteevmv/ML_course/2023/ML2.2%20real%20classification/data/diabetes.csv\")"
      ]
    },
    {
      "cell_type": "code",
      "source": [
        "y = data.Outcome\n",
        "X = data.drop([\"Outcome\"], axis=1)"
      ],
      "metadata": {
        "id": "SHck9IPwWnz6"
      },
      "execution_count": 4,
      "outputs": []
    },
    {
      "cell_type": "code",
      "source": [
        "#Для начала импортируем нужный класс и создадим его экземпляр:\n",
        "from sklearn.linear_model import LogisticRegression\n",
        "logistic = LogisticRegression()"
      ],
      "metadata": {
        "id": "gwM2IS_aWn4T"
      },
      "execution_count": 5,
      "outputs": []
    },
    {
      "cell_type": "code",
      "source": [
        "logistic.fit(X, y)"
      ],
      "metadata": {
        "colab": {
          "base_uri": "https://localhost:8080/",
          "height": 213
        },
        "id": "bfrJ7BKAWoY_",
        "outputId": "1eeb690d-3d71-402a-ff91-3018e61bc5c4"
      },
      "execution_count": 6,
      "outputs": [
        {
          "output_type": "stream",
          "name": "stderr",
          "text": [
            "/usr/local/lib/python3.10/dist-packages/sklearn/linear_model/_logistic.py:458: ConvergenceWarning: lbfgs failed to converge (status=1):\n",
            "STOP: TOTAL NO. of ITERATIONS REACHED LIMIT.\n",
            "\n",
            "Increase the number of iterations (max_iter) or scale the data as shown in:\n",
            "    https://scikit-learn.org/stable/modules/preprocessing.html\n",
            "Please also refer to the documentation for alternative solver options:\n",
            "    https://scikit-learn.org/stable/modules/linear_model.html#logistic-regression\n",
            "  n_iter_i = _check_optimize_result(\n"
          ]
        },
        {
          "output_type": "execute_result",
          "data": {
            "text/plain": [
              "LogisticRegression()"
            ],
            "text/html": [
              "<style>#sk-container-id-1 {color: black;background-color: white;}#sk-container-id-1 pre{padding: 0;}#sk-container-id-1 div.sk-toggleable {background-color: white;}#sk-container-id-1 label.sk-toggleable__label {cursor: pointer;display: block;width: 100%;margin-bottom: 0;padding: 0.3em;box-sizing: border-box;text-align: center;}#sk-container-id-1 label.sk-toggleable__label-arrow:before {content: \"▸\";float: left;margin-right: 0.25em;color: #696969;}#sk-container-id-1 label.sk-toggleable__label-arrow:hover:before {color: black;}#sk-container-id-1 div.sk-estimator:hover label.sk-toggleable__label-arrow:before {color: black;}#sk-container-id-1 div.sk-toggleable__content {max-height: 0;max-width: 0;overflow: hidden;text-align: left;background-color: #f0f8ff;}#sk-container-id-1 div.sk-toggleable__content pre {margin: 0.2em;color: black;border-radius: 0.25em;background-color: #f0f8ff;}#sk-container-id-1 input.sk-toggleable__control:checked~div.sk-toggleable__content {max-height: 200px;max-width: 100%;overflow: auto;}#sk-container-id-1 input.sk-toggleable__control:checked~label.sk-toggleable__label-arrow:before {content: \"▾\";}#sk-container-id-1 div.sk-estimator input.sk-toggleable__control:checked~label.sk-toggleable__label {background-color: #d4ebff;}#sk-container-id-1 div.sk-label input.sk-toggleable__control:checked~label.sk-toggleable__label {background-color: #d4ebff;}#sk-container-id-1 input.sk-hidden--visually {border: 0;clip: rect(1px 1px 1px 1px);clip: rect(1px, 1px, 1px, 1px);height: 1px;margin: -1px;overflow: hidden;padding: 0;position: absolute;width: 1px;}#sk-container-id-1 div.sk-estimator {font-family: monospace;background-color: #f0f8ff;border: 1px dotted black;border-radius: 0.25em;box-sizing: border-box;margin-bottom: 0.5em;}#sk-container-id-1 div.sk-estimator:hover {background-color: #d4ebff;}#sk-container-id-1 div.sk-parallel-item::after {content: \"\";width: 100%;border-bottom: 1px solid gray;flex-grow: 1;}#sk-container-id-1 div.sk-label:hover label.sk-toggleable__label {background-color: #d4ebff;}#sk-container-id-1 div.sk-serial::before {content: \"\";position: absolute;border-left: 1px solid gray;box-sizing: border-box;top: 0;bottom: 0;left: 50%;z-index: 0;}#sk-container-id-1 div.sk-serial {display: flex;flex-direction: column;align-items: center;background-color: white;padding-right: 0.2em;padding-left: 0.2em;position: relative;}#sk-container-id-1 div.sk-item {position: relative;z-index: 1;}#sk-container-id-1 div.sk-parallel {display: flex;align-items: stretch;justify-content: center;background-color: white;position: relative;}#sk-container-id-1 div.sk-item::before, #sk-container-id-1 div.sk-parallel-item::before {content: \"\";position: absolute;border-left: 1px solid gray;box-sizing: border-box;top: 0;bottom: 0;left: 50%;z-index: -1;}#sk-container-id-1 div.sk-parallel-item {display: flex;flex-direction: column;z-index: 1;position: relative;background-color: white;}#sk-container-id-1 div.sk-parallel-item:first-child::after {align-self: flex-end;width: 50%;}#sk-container-id-1 div.sk-parallel-item:last-child::after {align-self: flex-start;width: 50%;}#sk-container-id-1 div.sk-parallel-item:only-child::after {width: 0;}#sk-container-id-1 div.sk-dashed-wrapped {border: 1px dashed gray;margin: 0 0.4em 0.5em 0.4em;box-sizing: border-box;padding-bottom: 0.4em;background-color: white;}#sk-container-id-1 div.sk-label label {font-family: monospace;font-weight: bold;display: inline-block;line-height: 1.2em;}#sk-container-id-1 div.sk-label-container {text-align: center;}#sk-container-id-1 div.sk-container {/* jupyter's `normalize.less` sets `[hidden] { display: none; }` but bootstrap.min.css set `[hidden] { display: none !important; }` so we also need the `!important` here to be able to override the default hidden behavior on the sphinx rendered scikit-learn.org. See: https://github.com/scikit-learn/scikit-learn/issues/21755 */display: inline-block !important;position: relative;}#sk-container-id-1 div.sk-text-repr-fallback {display: none;}</style><div id=\"sk-container-id-1\" class=\"sk-top-container\"><div class=\"sk-text-repr-fallback\"><pre>LogisticRegression()</pre><b>In a Jupyter environment, please rerun this cell to show the HTML representation or trust the notebook. <br />On GitHub, the HTML representation is unable to render, please try loading this page with nbviewer.org.</b></div><div class=\"sk-container\" hidden><div class=\"sk-item\"><div class=\"sk-estimator sk-toggleable\"><input class=\"sk-toggleable__control sk-hidden--visually\" id=\"sk-estimator-id-1\" type=\"checkbox\" checked><label for=\"sk-estimator-id-1\" class=\"sk-toggleable__label sk-toggleable__label-arrow\">LogisticRegression</label><div class=\"sk-toggleable__content\"><pre>LogisticRegression()</pre></div></div></div></div></div>"
            ]
          },
          "metadata": {},
          "execution_count": 6
        }
      ]
    },
    {
      "cell_type": "code",
      "source": [
        "_ = [print(k, v) for k, v in zip(X.columns, logistic.coef_[0])] #коэффициенты\n",
        "print(\"Intercept: \\n\", logistic.intercept_) #вектор свободного коэффициента"
      ],
      "metadata": {
        "colab": {
          "base_uri": "https://localhost:8080/"
        },
        "id": "BJYkn_01XDZ-",
        "outputId": "52c7cc49-3e3e-4216-ceb7-4d6d85941ccb"
      },
      "execution_count": 7,
      "outputs": [
        {
          "output_type": "stream",
          "name": "stdout",
          "text": [
            "Pregnancies 0.11725234162003154\n",
            "Glucose 0.033599833017272665\n",
            "BloodPressure -0.014087378542667953\n",
            "SkinThickness -0.0012704811238511405\n",
            "Insulin -0.0012403209242111725\n",
            "BMI 0.07720234864219887\n",
            "DiabetesPedigreeFunction 1.419041726277172\n",
            "Age 0.010035371255526136\n",
            "Intercept: \n",
            " [-7.70291291]\n"
          ]
        }
      ]
    },
    {
      "cell_type": "code",
      "source": [
        "y_pred = logistic.predict(X)\n",
        "from sklearn import metrics\n",
        "metrics.confusion_matrix(y, y_pred)"
      ],
      "metadata": {
        "colab": {
          "base_uri": "https://localhost:8080/"
        },
        "id": "534R1mrYXYsI",
        "outputId": "e55a849c-7109-4e71-c755-054547ef77ee"
      },
      "execution_count": 8,
      "outputs": [
        {
          "output_type": "execute_result",
          "data": {
            "text/plain": [
              "array([[447,  53],\n",
              "       [114, 154]])"
            ]
          },
          "metadata": {},
          "execution_count": 8
        }
      ]
    },
    {
      "cell_type": "markdown",
      "source": [
        "Эта матрица классификации показывает нам очень полезную информацию: совместное распределение числа объектов предсказанных и реальных классов. Рассматривая эту матрицу мы можем получить важную информацию: сколько объектов мы классифицировали правильно, сколько неверно, к каким классам наша модель тяготеет, какие классы распознаются хорошо, какие - плохо.\n",
        "\n",
        "Гораздо удобнее анализировать ту же информацию в графической форме. Для этого воспользуемся специальной библиотекой seaborn, которая позволяет создавать полезные для машинного обучения визуализации очень просто:"
      ],
      "metadata": {
        "id": "DGKdBwEnXrxT"
      }
    },
    {
      "cell_type": "code",
      "source": [
        "import seaborn as sns\n",
        "sns.heatmap(metrics.confusion_matrix(y, y_pred), annot=True)"
      ],
      "metadata": {
        "colab": {
          "base_uri": "https://localhost:8080/",
          "height": 447
        },
        "id": "Wj1KUbBZXkXT",
        "outputId": "5e32070d-fd7c-474d-dd39-1f93b8b9b094"
      },
      "execution_count": 9,
      "outputs": [
        {
          "output_type": "execute_result",
          "data": {
            "text/plain": [
              "<Axes: >"
            ]
          },
          "metadata": {},
          "execution_count": 9
        },
        {
          "output_type": "display_data",
          "data": {
            "text/plain": [
              "<Figure size 640x480 with 2 Axes>"
            ],
            "image/png": "[encoded data removed]"
          },
          "metadata": {}
        }
      ]
    },
    {
      "cell_type": "code",
      "source": [
        "logistic.score(X, y)"
      ],
      "metadata": {
        "colab": {
          "base_uri": "https://localhost:8080/"
        },
        "id": "HYQWtpw3Xold",
        "outputId": "19c4f52a-afe1-4e7f-9b5e-a58c17243a64"
      },
      "execution_count": 10,
      "outputs": [
        {
          "output_type": "execute_result",
          "data": {
            "text/plain": [
              "0.7825520833333334"
            ]
          },
          "metadata": {},
          "execution_count": 10
        }
      ]
    },
    {
      "cell_type": "code",
      "source": [
        "#Другой метод: metrics.accuracy_score(y_test, y_pred)"
      ],
      "metadata": {
        "id": "dzaM6eWcYCB1"
      },
      "execution_count": null,
      "outputs": []
    },
    {
      "cell_type": "markdown",
      "source": [
        "### **1. Изучите документацию sklearn, посвященную классу LogisticRegression. Какую еще информацию можно вывести для обученной модели? Попробуйте изменить аргументы при создании модели и посмотрите, как это влияет на качество предсказания.**"
      ],
      "metadata": {
        "id": "bUYe-JndXBd5"
      }
    },
    {
      "cell_type": "markdown",
      "source": [
        "**Можно вывести:**\n",
        "\n",
        "**a) predict_proba - вероятность прогноза**\n",
        "\n",
        "В классе LogisticRegression библиотеки sklearn метод .predict() отвечает за предсказание принадлежности к определенному классу, а метод .predict_proba() отвечает за вероятность такого прогноза. Модель предсказала для первого наблюдения класс 0. При этом, обратите внимание, что метод .predict_proba() для каждого наблюдения выдает две вероятности, первая — это вероятность принадлежности к классу 0, вторая — к классу 1."
      ],
      "metadata": {
        "id": "RLnIrY8WbaC4"
      }
    },
    {
      "cell_type": "code",
      "source": [
        "#выполним предсказание класса\n",
        "y_pred = logistic.predict(X)\n",
        "\n",
        "# и найдем вероятности\n",
        "probability = logistic.predict_proba(X)"
      ],
      "metadata": {
        "id": "qsSzy4xDYHUh"
      },
      "execution_count": 17,
      "outputs": []
    },
    {
      "cell_type": "code",
      "source": [
        "# посмотрим на класс и вероятность первого наблюдения\n",
        "y_pred[0], probability[0]"
      ],
      "metadata": {
        "colab": {
          "base_uri": "https://localhost:8080/"
        },
        "id": "Hje4XPExbNBr",
        "outputId": "1e135217-0fc4-4e23-e02a-2a36f3b61742"
      },
      "execution_count": 18,
      "outputs": [
        {
          "output_type": "execute_result",
          "data": {
            "text/plain": [
              "(1, array([0.28902482, 0.71097518]))"
            ]
          },
          "metadata": {},
          "execution_count": 18
        }
      ]
    },
    {
      "cell_type": "markdown",
      "source": [
        "**б) decision_function - с какой стороны гиперплоскости предсказанная выборка для и на каком расстоянии от нее.**\n",
        "\n",
        "Функция принятия решения показывает, находится ли предсказанная классификатором выборка для x_test с правой или левой стороны гиперплоскости, а также на каком расстоянии от нее. Она также сообщает нам, насколько уверенно каждое значение, предсказанное классификатором для x_test, является положительным (положительное значение большой величины) или отрицательным (отрицательное значение большой величины)"
      ],
      "metadata": {
        "id": "lrduoPgmbpCp"
      }
    },
    {
      "cell_type": "code",
      "source": [
        "from sklearn.model_selection import train_test_split\n",
        "X_train, X_test, y_train, y_test = train_test_split(X, y, test_size=0.25, random_state=13)\n",
        "logistic.decision_function(X_test)"
      ],
      "metadata": {
        "id": "-Oi7PsPMZhuY"
      },
      "execution_count": null,
      "outputs": []
    },
    {
      "cell_type": "markdown",
      "source": [
        "**Изменим аргументы при создании модели:**\n",
        "\n",
        "Какие аргументы есть и за что они отвечают:\n",
        "\n",
        "1) C: Параметр регуляризации, который обратно пропорционален силе регуляризации. Меньшие значения C соответствуют более сильной регуляризации.\n",
        "\n",
        "2) penalty: Определяет тип регуляризации.\n",
        "\n",
        "    a) 'l1' - L1 регуляризация (Lasso),\n",
        "\n",
        "    b) 'l2' - L2 регуляризация (Ridge). Эти типы регуляризации могут помочь предотвратить переобучение модели.\n",
        "\n",
        "3) solver: Определяет алгоритм, используемый для оптимизации. Например:\n",
        "\n",
        "    a) 'liblinear' - используется для малых датасетов и поддерживает и penalty='l1',\n",
        "\n",
        "    b) 'lbfgs' - хорошо работает на больших наборах данных, поддерживает penalty='l2',\n",
        "    \n",
        "    c) 'saga' - поддерживает и 'l1' и 'l2', хорош для больших датасетов."
      ],
      "metadata": {
        "id": "GMRw09andR9l"
      }
    },
    {
      "cell_type": "code",
      "source": [
        "from sklearn.metrics import accuracy_score\n",
        "model = LogisticRegression(C=0.1, penalty='l1', solver='liblinear')\n",
        "model.fit(X_train, y_train)\n",
        "y_pred = model.predict(X_test)\n",
        "accuracy = accuracy_score(y_test, y_pred)\n",
        "print(f\"Точность с измененными коэффициентами: {accuracy}\")"
      ],
      "metadata": {
        "colab": {
          "base_uri": "https://localhost:8080/"
        },
        "id": "B39QoSxbdSIK",
        "outputId": "e7abb23b-2612-49a9-8f1c-9884cd4c1b53"
      },
      "execution_count": 20,
      "outputs": [
        {
          "output_type": "stream",
          "name": "stdout",
          "text": [
            "Точность с измененными коэффициентами: 0.7552083333333334\n"
          ]
        }
      ]
    },
    {
      "cell_type": "markdown",
      "source": [
        "Рассмотрим пример с другими параметрами. Мы можем использовать, например, параметры max_iter и class_weight:\n",
        "\n",
        "1) max_iter: Максимальное количество итераций для сходимости оптимизационного алгоритма. Увеличение этого значения может быть полезным, если модель не сходится.\n",
        "\n",
        "2) class_weight: Позволяет задать веса классам. Это может быть полезно в случае несбалансированных классов."
      ],
      "metadata": {
        "id": "J5cpfJuZhFCp"
      }
    },
    {
      "cell_type": "code",
      "source": [
        "model = LogisticRegression(max_iter=1000, class_weight='balanced')\n",
        "model.fit(X_train, y_train)\n",
        "y_pred = model.predict(X_test)\n",
        "accuracy = accuracy_score(y_test, y_pred)\n",
        "print(f\"Точность с измененными коэффициентами: {accuracy}\")"
      ],
      "metadata": {
        "colab": {
          "base_uri": "https://localhost:8080/"
        },
        "id": "xw7eSd6ZgsLw",
        "outputId": "2729a500-a15c-437f-fde2-b5d77695f5f9"
      },
      "execution_count": 22,
      "outputs": [
        {
          "output_type": "stream",
          "name": "stdout",
          "text": [
            "Точность с измененными коэффициентами: 0.7552083333333334\n"
          ]
        }
      ]
    },
    {
      "cell_type": "markdown",
      "source": [
        "В этом примере max_iter увеличен до 1000, что может быть полезно при сложных задачах оптимизации. Также добавлен параметр class_weight='balanced', который автоматически назначает веса классам, учитывая их распределение в обучающем наборе."
      ],
      "metadata": {
        "id": "h7fmi7wjhb1h"
      }
    },
    {
      "cell_type": "markdown",
      "source": [
        "### **2. Попробуйте применить к той же задаче другие модели классификации. Для каждой из них выведите матрицу классификации и оценку точности. Рекомендуется исследовать следующие модели:**"
      ],
      "metadata": {
        "id": "4l-i67Tmixqy"
      }
    },
    {
      "cell_type": "markdown",
      "source": [
        "![2023-11-29_03-54-35.png](data:image/png;base64,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)"
      ],
      "metadata": {
        "id": "CgJFm0kgkr6R"
      }
    },
    {
      "cell_type": "code",
      "source": [
        "from sklearn.svm import SVC\n",
        "from sklearn.neighbors import KNeighborsClassifier\n",
        "from sklearn.neural_network import MLPClassifier\n",
        "from sklearn.tree import DecisionTreeClassifier\n",
        "from sklearn.naive_bayes import GaussianNB\n",
        "from sklearn.ensemble import RandomForestClassifier\n",
        "from sklearn.metrics import confusion_matrix, accuracy_score"
      ],
      "metadata": {
        "id": "A5QdIeFthcn3"
      },
      "execution_count": 23,
      "outputs": []
    },
    {
      "cell_type": "code",
      "source": [
        "# Метод опорных векторов без ядра\n",
        "svm_linear = SVC(kernel='linear')\n",
        "svm_linear.fit(X_train, y_train)\n",
        "svm_linear_pred = svm_linear.predict(X_test)\n",
        "svm_linear_accuracy = accuracy_score(y_test, svm_linear_pred)\n",
        "svm_linear_cm = confusion_matrix(y_test, svm_linear_pred)\n",
        "\n",
        "# Метод опорных векторов с гауссовым ядром\n",
        "svm_rbf = SVC(kernel='rbf')\n",
        "svm_rbf.fit(X_train, y_train)\n",
        "svm_rbf_pred = svm_rbf.predict(X_test)\n",
        "svm_rbf_accuracy = accuracy_score(y_test, svm_rbf_pred)\n",
        "svm_rbf_cm = confusion_matrix(y_test, svm_rbf_pred)\n",
        "\n",
        "# Метод ближайших соседей\n",
        "knn = KNeighborsClassifier()\n",
        "knn.fit(X_train, y_train)\n",
        "knn_pred = knn.predict(X_test)\n",
        "knn_accuracy = accuracy_score(y_test, knn_pred)\n",
        "knn_cm = confusion_matrix(y_test, knn_pred)\n",
        "\n",
        "# Многослойный перцептрон\n",
        "mlp = MLPClassifier()\n",
        "mlp.fit(X_train, y_train)\n",
        "mlp_pred = mlp.predict(X_test)\n",
        "mlp_accuracy = accuracy_score(y_test, mlp_pred)\n",
        "mlp_cm = confusion_matrix(y_test, mlp_pred)\n",
        "\n",
        "# Дерево решений\n",
        "dt = DecisionTreeClassifier()\n",
        "dt.fit(X_train, y_train)\n",
        "dt_pred = dt.predict(X_test)\n",
        "dt_accuracy = accuracy_score(y_test, dt_pred)\n",
        "dt_cm = confusion_matrix(y_test, dt_pred)\n",
        "\n",
        "# Наивный байесовский классификатор\n",
        "nb = GaussianNB()\n",
        "nb.fit(X_train, y_train)\n",
        "nb_pred = nb.predict(X_test)\n",
        "nb_accuracy = accuracy_score(y_test, nb_pred)\n",
        "nb_cm = confusion_matrix(y_test, nb_pred)\n",
        "\n",
        "# Случайный лес\n",
        "rf = RandomForestClassifier()\n",
        "rf.fit(X_train, y_train)\n",
        "rf_pred = rf.predict(X_test)\n",
        "rf_accuracy = accuracy_score(y_test, rf_pred)\n",
        "rf_cm = confusion_matrix(y_test, rf_pred)\n",
        "\n",
        "# Вывод результатов для каждой модели\n",
        "print(\"Метод опорных векторов без ядра:\")\n",
        "print(\"Accuracy:\", svm_linear_accuracy)\n",
        "print(\"Confusion Matrix:\\n\", svm_linear_cm)\n",
        "\n",
        "print(\"\\nМетод опорных векторов с гауссовым ядром\")\n",
        "print(\"Accuracy:\", svm_rbf_accuracy)\n",
        "print(\"Confusion Matrix:\\n\", svm_rbf_cm)\n",
        "\n",
        "print(\"\\nМетод ближайших соседей\")\n",
        "print(\"Accuracy:\", knn_accuracy)\n",
        "print(\"Confusion Matrix:\\n\", knn_cm)\n",
        "\n",
        "print(\"\\nМногослойный перцептрон\")\n",
        "print(\"Accuracy:\", mlp_accuracy)\n",
        "print(\"Confusion Matrix:\\n\", mlp_cm)\n",
        "\n",
        "print(\"\\nДерево решений\")\n",
        "print(\"Accuracy:\", dt_accuracy)\n",
        "print(\"Confusion Matrix:\\n\", dt_cm)\n",
        "\n",
        "print(\"\\nНаивный байесовский классификатор\")\n",
        "print(\"Accuracy:\", nb_accuracy)\n",
        "print(\"Confusion Matrix:\\n\", nb_cm)\n",
        "\n",
        "print(\"\\nСлучайный лес\")\n",
        "print(\"Accuracy:\", rf_accuracy)\n",
        "print(\"Confusion Matrix:\\n\", rf_cm)"
      ],
      "metadata": {
        "colab": {
          "base_uri": "https://localhost:8080/"
        },
        "id": "RuE66AggjX8S",
        "outputId": "5815d517-ee9b-4a14-bdc7-4f69b5793833"
      },
      "execution_count": 26,
      "outputs": [
        {
          "output_type": "stream",
          "name": "stdout",
          "text": [
            "Метод опорных векторов без ядра:\n",
            "Accuracy: 0.7552083333333334\n",
            "Confusion Matrix:\n",
            " [[107  15]\n",
            " [ 32  38]]\n",
            "\n",
            "Метод опорных векторов с гауссовым ядром\n",
            "Accuracy: 0.7552083333333334\n",
            "Confusion Matrix:\n",
            " [[111  11]\n",
            " [ 36  34]]\n",
            "\n",
            "Метод ближайших соседей\n",
            "Accuracy: 0.71875\n",
            "Confusion Matrix:\n",
            " [[101  21]\n",
            " [ 33  37]]\n",
            "\n",
            "Многослойный перцептрон\n",
            "Accuracy: 0.6614583333333334\n",
            "Confusion Matrix:\n",
            " [[84 38]\n",
            " [27 43]]\n",
            "\n",
            "Дерево решений\n",
            "Accuracy: 0.7291666666666666\n",
            "Confusion Matrix:\n",
            " [[94 28]\n",
            " [24 46]]\n",
            "\n",
            "Наивный байесовский классификатор\n",
            "Accuracy: 0.7604166666666666\n",
            "Confusion Matrix:\n",
            " [[100  22]\n",
            " [ 24  46]]\n",
            "\n",
            "Случайный лес\n",
            "Accuracy: 0.765625\n",
            "Confusion Matrix:\n",
            " [[106  16]\n",
            " [ 29  41]]\n"
          ]
        }
      ]
    },
    {
      "cell_type": "markdown",
      "source": [
        "### **3. Напишите функцию, которая автоматически обучает все перечисленные модели и для каждой выдает оценку точности.**"
      ],
      "metadata": {
        "id": "fZOZT9q7k_l0"
      }
    },
    {
      "cell_type": "code",
      "source": [
        "#создадим словарь со всеми необходимыми моделями:\n",
        "models = {\n",
        "    \"Метод опорных векторов без ядра\" : SVC(kernel='linear'),\n",
        "    \"Метод опорных векторов с гауссовым ядром\" : SVC(kernel='rbf'),\n",
        "    \"Метод ближайших соседей\" : KNeighborsClassifier(),\n",
        "    \"Многослойный перцептрон\" : MLPClassifier(),\n",
        "    \"Дерево решений\" : DecisionTreeClassifier(),\n",
        "    \"Наивный байесовский классификатор\" : GaussianNB(),\n",
        "    \"Случайный лес\" : RandomForestClassifier(),\n",
        "}"
      ],
      "metadata": {
        "id": "NOprGPw0l4F-"
      },
      "execution_count": 28,
      "outputs": []
    },
    {
      "cell_type": "code",
      "source": [
        "def func_models(X_train, y_train, y_test, X_test, models):\n",
        "    res = {}\n",
        "    for i in models.keys():\n",
        "        models[i].fit(X_train, y_train)\n",
        "        accuracy = accuracy_score(y_test, models[i].predict(X_test))\n",
        "        res[i] = accuracy\n",
        "    return res"
      ],
      "metadata": {
        "id": "b0plfCegkctC"
      },
      "execution_count": 38,
      "outputs": []
    },
    {
      "cell_type": "code",
      "source": [
        "func_models(X_train, y_train, y_test, X_test, models)"
      ],
      "metadata": {
        "colab": {
          "base_uri": "https://localhost:8080/"
        },
        "id": "fuq0EQJkmuTG",
        "outputId": "fb6530c8-bb30-44ca-fcdf-09361759ae61"
      },
      "execution_count": 41,
      "outputs": [
        {
          "output_type": "execute_result",
          "data": {
            "text/plain": [
              "{'Метод опорных векторов без ядра': 0.7552083333333334,\n",
              " 'Метод опорных векторов с гауссовым ядром': 0.7552083333333334,\n",
              " 'Метод ближайших соседей': 0.71875,\n",
              " 'Многослойный перцептрон': 0.71875,\n",
              " 'Дерево решений': 0.7239583333333334,\n",
              " 'Наивный байесовский классификатор': 0.7604166666666666,\n",
              " 'Случайный лес': 0.7760416666666666}"
            ]
          },
          "metadata": {},
          "execution_count": 41
        }
      ]
    },
    {
      "cell_type": "markdown",
      "source": [
        "### **4. Повторите полностью анализ для другой задачи - распознавание вида ириса по параметрам растения (можно использовать метод sklearn.datasets.load_iris()).**"
      ],
      "metadata": {
        "id": "iJbuACPdn6lO"
      }
    },
    {
      "cell_type": "markdown",
      "source": [
        "Для начала считаем данные:"
      ],
      "metadata": {
        "id": "BfqEmXy5rJuM"
      }
    },
    {
      "cell_type": "code",
      "source": [
        "from sklearn.datasets import load_iris\n",
        "data1 = load_iris()"
      ],
      "metadata": {
        "id": "P0soxLNkoAJ-"
      },
      "execution_count": null,
      "outputs": []
    },
    {
      "cell_type": "code",
      "source": [
        "data = pd.DataFrame(data1.data, columns = data1.feature_names)\n",
        "data['y'] = data1.target\n",
        "data.head()"
      ],
      "metadata": {
        "colab": {
          "base_uri": "https://localhost:8080/",
          "height": 206
        },
        "id": "BnuzqpdwpXsB",
        "outputId": "a2f1ec75-af9a-45e9-d61c-4341b2143768"
      },
      "execution_count": 44,
      "outputs": [
        {
          "output_type": "execute_result",
          "data": {
            "text/plain": [
              "   sepal length (cm)  sepal width (cm)  petal length (cm)  petal width (cm)  y\n",
              "0                5.1               3.5                1.4               0.2  0\n",
              "1                4.9               3.0                1.4               0.2  0\n",
              "2                4.7               3.2                1.3               0.2  0\n",
              "3                4.6               3.1                1.5               0.2  0\n",
              "4                5.0               3.6                1.4               0.2  0"
            ],
            "text/html": [
              "\n",
              "  <div id=\"df-49a8208d-da8e-476b-ba1c-b8abec13805a\" class=\"colab-df-container\">\n",
              "    <div>\n",
              "<style scoped>\n",
              "    .dataframe tbody tr th:only-of-type {\n",
              "        vertical-align: middle;\n",
              "    }\n",
              "\n",
              "    .dataframe tbody tr th {\n",
              "        vertical-align: top;\n",
              "    }\n",
              "\n",
              "    .dataframe thead th {\n",
              "        text-align: right;\n",
              "    }\n",
              "</style>\n",
              "<table border=\"1\" class=\"dataframe\">\n",
              "  <thead>\n",
              "    <tr style=\"text-align: right;\">\n",
              "      <th></th>\n",
              "      <th>sepal length (cm)</th>\n",
              "      <th>sepal width (cm)</th>\n",
              "      <th>petal length (cm)</th>\n",
              "      <th>petal width (cm)</th>\n",
              "      <th>y</th>\n",
              "    </tr>\n",
              "  </thead>\n",
              "  <tbody>\n",
              "    <tr>\n",
              "      <th>0</th>\n",
              "      <td>5.1</td>\n",
              "      <td>3.5</td>\n",
              "      <td>1.4</td>\n",
              "      <td>0.2</td>\n",
              "      <td>0</td>\n",
              "    </tr>\n",
              "    <tr>\n",
              "      <th>1</th>\n",
              "      <td>4.9</td>\n",
              "      <td>3.0</td>\n",
              "      <td>1.4</td>\n",
              "      <td>0.2</td>\n",
              "      <td>0</td>\n",
              "    </tr>\n",
              "    <tr>\n",
              "      <th>2</th>\n",
              "      <td>4.7</td>\n",
              "      <td>3.2</td>\n",
              "      <td>1.3</td>\n",
              "      <td>0.2</td>\n",
              "      <td>0</td>\n",
              "    </tr>\n",
              "    <tr>\n",
              "      <th>3</th>\n",
              "      <td>4.6</td>\n",
              "      <td>3.1</td>\n",
              "      <td>1.5</td>\n",
              "      <td>0.2</td>\n",
              "      <td>0</td>\n",
              "    </tr>\n",
              "    <tr>\n",
              "      <th>4</th>\n",
              "      <td>5.0</td>\n",
              "      <td>3.6</td>\n",
              "      <td>1.4</td>\n",
              "      <td>0.2</td>\n",
              "      <td>0</td>\n",
              "    </tr>\n",
              "  </tbody>\n",
              "</table>\n",
              "</div>\n",
              "    <div class=\"colab-df-buttons\">\n",
              "\n",
              "  <div class=\"colab-df-container\">\n",
              "    <button class=\"colab-df-convert\" onclick=\"convertToInteractive('df-49a8208d-da8e-476b-ba1c-b8abec13805a')\"\n",
              "            title=\"Convert this dataframe to an interactive table.\"\n",
              "            style=\"display:none;\">\n",
              "\n",
              "  <svg xmlns=\"http://www.w3.org/2000/svg\" height=\"24px\" viewBox=\"0 -960 960 960\">\n",
              "    <path d=\"M120-120v-720h720v720H120Zm60-500h600v-160H180v160Zm220 220h160v-160H400v160Zm0 220h160v-160H400v160ZM180-400h160v-160H180v160Zm440 0h160v-160H620v160ZM180-180h160v-160H180v160Zm440 0h160v-160H620v160Z\"/>\n",
              "  </svg>\n",
              "    </button>\n",
              "\n",
              "  <style>\n",
              "    .colab-df-container {\n",
              "      display:flex;\n",
              "      gap: 12px;\n",
              "    }\n",
              "\n",
              "    .colab-df-convert {\n",
              "      background-color: #E8F0FE;\n",
              "      border: none;\n",
              "      border-radius: 50%;\n",
              "      cursor: pointer;\n",
              "      display: none;\n",
              "      fill: #1967D2;\n",
              "      height: 32px;\n",
              "      padding: 0 0 0 0;\n",
              "      width: 32px;\n",
              "    }\n",
              "\n",
              "    .colab-df-convert:hover {\n",
              "      background-color: #E2EBFA;\n",
              "      box-shadow: 0px 1px 2px rgba(60, 64, 67, 0.3), 0px 1px 3px 1px rgba(60, 64, 67, 0.15);\n",
              "      fill: #174EA6;\n",
              "    }\n",
              "\n",
              "    .colab-df-buttons div {\n",
              "      margin-bottom: 4px;\n",
              "    }\n",
              "\n",
              "    [theme=dark] .colab-df-convert {\n",
              "      background-color: #3B4455;\n",
              "      fill: #D2E3FC;\n",
              "    }\n",
              "\n",
              "    [theme=dark] .colab-df-convert:hover {\n",
              "      background-color: #434B5C;\n",
              "      box-shadow: 0px 1px 3px 1px rgba(0, 0, 0, 0.15);\n",
              "      filter: drop-shadow(0px 1px 2px rgba(0, 0, 0, 0.3));\n",
              "      fill: #FFFFFF;\n",
              "    }\n",
              "  </style>\n",
              "\n",
              "    <script>\n",
              "      const buttonEl =\n",
              "        document.querySelector('#df-49a8208d-da8e-476b-ba1c-b8abec13805a button.colab-df-convert');\n",
              "      buttonEl.style.display =\n",
              "        google.colab.kernel.accessAllowed ? 'block' : 'none';\n",
              "\n",
              "      async function convertToInteractive(key) {\n",
              "        const element = document.querySelector('#df-49a8208d-da8e-476b-ba1c-b8abec13805a');\n",
              "        const dataTable =\n",
              "          await google.colab.kernel.invokeFunction('convertToInteractive',\n",
              "                                                    [key], {});\n",
              "        if (!dataTable) return;\n",
              "\n",
              "        const docLinkHtml = 'Like what you see? Visit the ' +\n",
              "          '<a target=\"_blank\" href=https://colab.research.google.com/notebooks/data_table.ipynb>data table notebook</a>'\n",
              "          + ' to learn more about interactive tables.';\n",
              "        element.innerHTML = '';\n",
              "        dataTable['output_type'] = 'display_data';\n",
              "        await google.colab.output.renderOutput(dataTable, element);\n",
              "        const docLink = document.createElement('div');\n",
              "        docLink.innerHTML = docLinkHtml;\n",
              "        element.appendChild(docLink);\n",
              "      }\n",
              "    </script>\n",
              "  </div>\n",
              "\n",
              "\n",
              "<div id=\"df-c8f2c968-8074-4cc8-8263-326dc615b663\">\n",
              "  <button class=\"colab-df-quickchart\" onclick=\"quickchart('df-c8f2c968-8074-4cc8-8263-326dc615b663')\"\n",
              "            title=\"Suggest charts\"\n",
              "            style=\"display:none;\">\n",
              "\n",
              "<svg xmlns=\"http://www.w3.org/2000/svg\" height=\"24px\"viewBox=\"0 0 24 24\"\n",
              "     width=\"24px\">\n",
              "    <g>\n",
              "        <path d=\"M19 3H5c-1.1 0-2 .9-2 2v14c0 1.1.9 2 2 2h14c1.1 0 2-.9 2-2V5c0-1.1-.9-2-2-2zM9 17H7v-7h2v7zm4 0h-2V7h2v10zm4 0h-2v-4h2v4z\"/>\n",
              "    </g>\n",
              "</svg>\n",
              "  </button>\n",
              "\n",
              "<style>\n",
              "  .colab-df-quickchart {\n",
              "      --bg-color: #E8F0FE;\n",
              "      --fill-color: #1967D2;\n",
              "      --hover-bg-color: #E2EBFA;\n",
              "      --hover-fill-color: #174EA6;\n",
              "      --disabled-fill-color: #AAA;\n",
              "      --disabled-bg-color: #DDD;\n",
              "  }\n",
              "\n",
              "  [theme=dark] .colab-df-quickchart {\n",
              "      --bg-color: #3B4455;\n",
              "      --fill-color: #D2E3FC;\n",
              "      --hover-bg-color: #434B5C;\n",
              "      --hover-fill-color: #FFFFFF;\n",
              "      --disabled-bg-color: #3B4455;\n",
              "      --disabled-fill-color: #666;\n",
              "  }\n",
              "\n",
              "  .colab-df-quickchart {\n",
              "    background-color: var(--bg-color);\n",
              "    border: none;\n",
              "    border-radius: 50%;\n",
              "    cursor: pointer;\n",
              "    display: none;\n",
              "    fill: var(--fill-color);\n",
              "    height: 32px;\n",
              "    padding: 0;\n",
              "    width: 32px;\n",
              "  }\n",
              "\n",
              "  .colab-df-quickchart:hover {\n",
              "    background-color: var(--hover-bg-color);\n",
              "    box-shadow: 0 1px 2px rgba(60, 64, 67, 0.3), 0 1px 3px 1px rgba(60, 64, 67, 0.15);\n",
              "    fill: var(--button-hover-fill-color);\n",
              "  }\n",
              "\n",
              "  .colab-df-quickchart-complete:disabled,\n",
              "  .colab-df-quickchart-complete:disabled:hover {\n",
              "    background-color: var(--disabled-bg-color);\n",
              "    fill: var(--disabled-fill-color);\n",
              "    box-shadow: none;\n",
              "  }\n",
              "\n",
              "  .colab-df-spinner {\n",
              "    border: 2px solid var(--fill-color);\n",
              "    border-color: transparent;\n",
              "    border-bottom-color: var(--fill-color);\n",
              "    animation:\n",
              "      spin 1s steps(1) infinite;\n",
              "  }\n",
              "\n",
              "  @keyframes spin {\n",
              "    0% {\n",
              "      border-color: transparent;\n",
              "      border-bottom-color: var(--fill-color);\n",
              "      border-left-color: var(--fill-color);\n",
              "    }\n",
              "    20% {\n",
              "      border-color: transparent;\n",
              "      border-left-color: var(--fill-color);\n",
              "      border-top-color: var(--fill-color);\n",
              "    }\n",
              "    30% {\n",
              "      border-color: transparent;\n",
              "      border-left-color: var(--fill-color);\n",
              "      border-top-color: var(--fill-color);\n",
              "      border-right-color: var(--fill-color);\n",
              "    }\n",
              "    40% {\n",
              "      border-color: transparent;\n",
              "      border-right-color: var(--fill-color);\n",
              "      border-top-color: var(--fill-color);\n",
              "    }\n",
              "    60% {\n",
              "      border-color: transparent;\n",
              "      border-right-color: var(--fill-color);\n",
              "    }\n",
              "    80% {\n",
              "      border-color: transparent;\n",
              "      border-right-color: var(--fill-color);\n",
              "      border-bottom-color: var(--fill-color);\n",
              "    }\n",
              "    90% {\n",
              "      border-color: transparent;\n",
              "      border-bottom-color: var(--fill-color);\n",
              "    }\n",
              "  }\n",
              "</style>\n",
              "\n",
              "  <script>\n",
              "    async function quickchart(key) {\n",
              "      const quickchartButtonEl =\n",
              "        document.querySelector('#' + key + ' button');\n",
              "      quickchartButtonEl.disabled = true;  // To prevent multiple clicks.\n",
              "      quickchartButtonEl.classList.add('colab-df-spinner');\n",
              "      try {\n",
              "        const charts = await google.colab.kernel.invokeFunction(\n",
              "            'suggestCharts', [key], {});\n",
              "      } catch (error) {\n",
              "        console.error('Error during call to suggestCharts:', error);\n",
              "      }\n",
              "      quickchartButtonEl.classList.remove('colab-df-spinner');\n",
              "      quickchartButtonEl.classList.add('colab-df-quickchart-complete');\n",
              "    }\n",
              "    (() => {\n",
              "      let quickchartButtonEl =\n",
              "        document.querySelector('#df-c8f2c968-8074-4cc8-8263-326dc615b663 button');\n",
              "      quickchartButtonEl.style.display =\n",
              "        google.colab.kernel.accessAllowed ? 'block' : 'none';\n",
              "    })();\n",
              "  </script>\n",
              "</div>\n",
              "    </div>\n",
              "  </div>\n"
            ]
          },
          "metadata": {},
          "execution_count": 44
        }
      ]
    },
    {
      "cell_type": "code",
      "source": [
        "y = data['y']\n",
        "X = data.drop('y', axis=1)\n",
        "X_train, X_test, y_train, y_test = train_test_split(X, y, test_size=0.25, random_state=13)"
      ],
      "metadata": {
        "id": "QDtSrSivpd2X"
      },
      "execution_count": 46,
      "outputs": []
    },
    {
      "cell_type": "markdown",
      "source": [
        "Обучим все перечисленные раннее модели и для каждой выведем оценку точности:"
      ],
      "metadata": {
        "id": "exbskb-5rPBk"
      }
    },
    {
      "cell_type": "code",
      "source": [
        "func_models(X_train, y_train, y_test, X_test, models)"
      ],
      "metadata": {
        "colab": {
          "base_uri": "https://localhost:8080/"
        },
        "id": "qgiY5K7Ypw_Y",
        "outputId": "e56a78df-fb7b-4650-c913-69f9cb21adb6"
      },
      "execution_count": 47,
      "outputs": [
        {
          "output_type": "stream",
          "name": "stderr",
          "text": [
            "/usr/local/lib/python3.10/dist-packages/sklearn/neural_network/_multilayer_perceptron.py:686: ConvergenceWarning: Stochastic Optimizer: Maximum iterations (200) reached and the optimization hasn't converged yet.\n",
            "  warnings.warn(\n"
          ]
        },
        {
          "output_type": "execute_result",
          "data": {
            "text/plain": [
              "{'Метод опорных векторов без ядра': 1.0,\n",
              " 'Метод опорных векторов с гауссовым ядром': 0.9736842105263158,\n",
              " 'Метод ближайших соседей': 0.8947368421052632,\n",
              " 'Многослойный перцептрон': 0.9736842105263158,\n",
              " 'Дерево решений': 0.9473684210526315,\n",
              " 'Наивный байесовский классификатор': 0.9736842105263158,\n",
              " 'Случайный лес': 0.9473684210526315}"
            ]
          },
          "metadata": {},
          "execution_count": 47
        }
      ]
    },
    {
      "cell_type": "markdown",
      "source": [
        "Для LogisticRegression():"
      ],
      "metadata": {
        "id": "5obsfzXArdkN"
      }
    },
    {
      "cell_type": "code",
      "source": [
        "logistic = LogisticRegression()\n",
        "logistic.fit(X, y)"
      ],
      "metadata": {
        "colab": {
          "base_uri": "https://localhost:8080/"
        },
        "id": "t_aaNxBGqGBw",
        "outputId": "77aed23f-02e1-4a83-e67d-372cf6069fb8"
      },
      "execution_count": 49,
      "outputs": [
        {
          "output_type": "stream",
          "name": "stdout",
          "text": [
            "sepal length (cm) -0.41887908486415726\n",
            "sepal width (cm) 0.9671062718370561\n",
            "petal length (cm) -2.520933305751703\n",
            "petal width (cm) -1.08419917264013\n",
            "Intercept: \n",
            " [  9.8405634    2.21733979 -12.05790319]\n"
          ]
        },
        {
          "output_type": "stream",
          "name": "stderr",
          "text": [
            "/usr/local/lib/python3.10/dist-packages/sklearn/linear_model/_logistic.py:458: ConvergenceWarning: lbfgs failed to converge (status=1):\n",
            "STOP: TOTAL NO. of ITERATIONS REACHED LIMIT.\n",
            "\n",
            "Increase the number of iterations (max_iter) or scale the data as shown in:\n",
            "    https://scikit-learn.org/stable/modules/preprocessing.html\n",
            "Please also refer to the documentation for alternative solver options:\n",
            "    https://scikit-learn.org/stable/modules/linear_model.html#logistic-regression\n",
            "  n_iter_i = _check_optimize_result(\n"
          ]
        }
      ]
    },
    {
      "cell_type": "code",
      "source": [
        "_ = [print(k, v) for k, v in zip(X.columns, logistic.coef_[0])] #коэффициенты\n",
        "print(\"Intercept: \\n\", logistic.intercept_) #вектор свободного коэффициента"
      ],
      "metadata": {
        "colab": {
          "base_uri": "https://localhost:8080/"
        },
        "id": "Nh9FMYE3qlZQ",
        "outputId": "00353fe5-6144-4444-dfca-eebedb3b0344"
      },
      "execution_count": 50,
      "outputs": [
        {
          "output_type": "stream",
          "name": "stdout",
          "text": [
            "sepal length (cm) -0.41887908486415726\n",
            "sepal width (cm) 0.9671062718370561\n",
            "petal length (cm) -2.520933305751703\n",
            "petal width (cm) -1.08419917264013\n",
            "Intercept: \n",
            " [  9.8405634    2.21733979 -12.05790319]\n"
          ]
        }
      ]
    },
    {
      "cell_type": "code",
      "source": [
        "y_pred = logistic.predict(X)\n",
        "print(metrics.confusion_matrix(y, y_pred))\n",
        "sns.heatmap(metrics.confusion_matrix(y, y_pred), annot=True)"
      ],
      "metadata": {
        "colab": {
          "base_uri": "https://localhost:8080/",
          "height": 504
        },
        "id": "FklJLfHQqvzi",
        "outputId": "11ee121d-3ea9-4795-c88f-fe7f8e41e14e"
      },
      "execution_count": 53,
      "outputs": [
        {
          "output_type": "stream",
          "name": "stdout",
          "text": [
            "[[50  0  0]\n",
            " [ 0 47  3]\n",
            " [ 0  1 49]]\n"
          ]
        },
        {
          "output_type": "execute_result",
          "data": {
            "text/plain": [
              "<Axes: >"
            ]
          },
          "metadata": {},
          "execution_count": 53
        },
        {
          "output_type": "display_data",
          "data": {
            "text/plain": [
              "<Figure size 640x480 with 2 Axes>"
            ],
            "image/png": "[encoded data removed]"
          },
          "metadata": {}
        }
      ]
    },
    {
      "cell_type": "code",
      "source": [
        "logistic.score(X, y)"
      ],
      "metadata": {
        "colab": {
          "base_uri": "https://localhost:8080/"
        },
        "id": "Vv2bVqMgsK_k",
        "outputId": "43782b32-abb0-4954-a134-2f0312f67201"
      },
      "execution_count": 54,
      "outputs": [
        {
          "output_type": "execute_result",
          "data": {
            "text/plain": [
              "0.9733333333333334"
            ]
          },
          "metadata": {},
          "execution_count": 54
        }
      ]
    }
  ]
}